{
 "cells": [
  {
   "cell_type": "markdown",
   "id": "e71b8cd9",
   "metadata": {},
   "source": [
    "# Cross Validation"
   ]
  },
  {
   "cell_type": "code",
   "execution_count": 1,
   "id": "68ec190a",
   "metadata": {},
   "outputs": [],
   "source": [
    "from sklearn import datasets\n",
    "boston = datasets.load_boston() # dict-type"
   ]
  },
  {
   "cell_type": "code",
   "execution_count": 2,
   "id": "6cbc0073",
   "metadata": {},
   "outputs": [],
   "source": [
    "X = boston.data\n",
    "y = boston.target"
   ]
  },
  {
   "cell_type": "code",
   "execution_count": 8,
   "id": "5cac39c3",
   "metadata": {},
   "outputs": [
    {
     "data": {
      "text/plain": [
       "dict_keys(['data', 'target', 'feature_names', 'DESCR', 'filename'])"
      ]
     },
     "execution_count": 8,
     "metadata": {},
     "output_type": "execute_result"
    }
   ],
   "source": [
    "boston.keys()"
   ]
  },
  {
   "cell_type": "markdown",
   "id": "1ee649ed",
   "metadata": {},
   "source": [
    "## K-fold Cross Validation"
   ]
  },
  {
   "cell_type": "code",
   "execution_count": 5,
   "id": "24b27b46",
   "metadata": {},
   "outputs": [
    {
     "name": "stdout",
     "output_type": "stream",
     "text": [
      "TRAIN -  [0 1 2 3 4 5 6 7 8 9]\n",
      "TEST -  [ 20  55  57  82  93 105 111 112 115 121]\n",
      "TRAIN -  [ 0  1  3  4  5  6  7  9 10 11]\n",
      "TEST -  [ 2  8 18 33 77 79 88 90 92 95]\n",
      "TRAIN -  [ 0  1  2  4  5  6  7  8  9 10]\n",
      "TEST -  [ 3 27 28 40 46 60 81 94 98 99]\n",
      "TRAIN -  [ 0  1  2  3  4  5  6  7  8 10]\n",
      "TEST -  [ 9 24 25 31 32 34 39 70 74 87]\n",
      "TRAIN -  [ 0  1  2  3  4  5  7  8  9 10]\n",
      "TEST -  [  6  13  23  48  53  62  69  84 100 106]\n",
      "TRAIN -  [ 0  2  3  4  5  6  7  8  9 10]\n",
      "TEST -  [  1  14  42  47  66  67  71  85 102 123]\n",
      "TRAIN -  [0 1 2 3 4 5 6 7 8 9]\n",
      "TEST -  [ 12  17  38  51  54  59  97 103 107 114]\n",
      "TRAIN -  [ 1  2  3  4  5  6  7  8  9 11]\n",
      "TEST -  [ 0 10 15 19 21 26 29 35 37 61]\n",
      "TRAIN -  [ 0  1  2  3  6  8  9 10 11 12]\n",
      "TEST -  [ 4  5  7 16 36 41 56 58 64 68]\n",
      "TRAIN -  [0 1 2 3 4 5 6 7 8 9]\n",
      "TEST -  [11 22 30 43 44 45 49 50 52 63]\n"
     ]
    }
   ],
   "source": [
    "from sklearn.model_selection import KFold\n",
    "\n",
    "kf = KFold(n_splits=10, shuffle=True)\n",
    "\n",
    "for train_index, test_index in kf.split(X):\n",
    "    print(\"TRAIN - \", train_index[:10])\n",
    "    print(\"TEST - \", test_index[:10])"
   ]
  },
  {
   "cell_type": "code",
   "execution_count": 6,
   "id": "9066de34",
   "metadata": {},
   "outputs": [],
   "source": [
    "from sklearn.model_selection import cross_validate\n",
    "from sklearn.linear_model import Lasso, Ridge\n",
    "from sklearn.metrics import mean_squared_error\n",
    "\n",
    "kf = KFold(n_splits=10, shuffle=True)\n",
    "lasso_regressor = Lasso(warm_start=False)\n",
    "ridge_regressor = Ridge()\n",
    "\n",
    "lasso_mse = []\n",
    "ridge_mse = []\n",
    "\n",
    "for train_index, test_index in kf.split(X):\n",
    "    # 학습\n",
    "    lasso_regressor.fit(X[train_index], y[train_index])\n",
    "    ridge_regressor.fit(X[train_index], y[train_index])\n",
    "\n",
    "    # 성능 비교\n",
    "    lasso_mse.append(mean_squared_error(y[test_index], lasso_regressor.predict(X[test_index])))\n",
    "    ridge_mse.append(mean_squared_error(y[test_index], ridge_regressor.predict(X[test_index])))\n"
   ]
  },
  {
   "cell_type": "code",
   "execution_count": 7,
   "id": "47a72cbc",
   "metadata": {},
   "outputs": [
    {
     "data": {
      "text/plain": [
       "(28.92574908439597, 24.348767914059273)"
      ]
     },
     "execution_count": 7,
     "metadata": {},
     "output_type": "execute_result"
    }
   ],
   "source": [
    "sum(lasso_mse) / 10, sum(ridge_mse) / 10\n",
    "\n",
    "# 10번 돌렸으니까 10으로 나눔\n",
    "# ridge가 좀 더 mse 에러가 작게 나오구나!"
   ]
  },
  {
   "cell_type": "code",
   "execution_count": 18,
   "id": "74cc4e02",
   "metadata": {},
   "outputs": [
    {
     "data": {
      "text/plain": [
       "array([ -11.75904887,  -17.87218543,  -10.52504673,  -60.79224355,\n",
       "        -46.77806854,  -40.75196077,  -17.30562005, -102.67754279,\n",
       "        -22.8731834 ,  -13.30594575])"
      ]
     },
     "execution_count": 18,
     "metadata": {},
     "output_type": "execute_result"
    }
   ],
   "source": [
    "from sklearn.model_selection import cross_val_score\n",
    "import numpy as np\n",
    "\n",
    "lasso_regressor = Lasso(warm_start=False)\n",
    "ridge_regressor = Ridge()\n",
    "\n",
    "lasso_scores = cross_val_score(lasso_regressor, X, y, cv=10, \n",
    "                               scoring='neg_mean_squared_error')\n",
    "ridge_scores = cross_val_score(ridge_regressor, X, y, cv=10, \n",
    "                               scoring='neg_mean_squared_error')\n",
    "\n",
    "# 10번씩 넣어줌\n",
    "lasso_scores"
   ]
  },
  {
   "cell_type": "code",
   "execution_count": 19,
   "id": "d92a342a",
   "metadata": {},
   "outputs": [
    {
     "data": {
      "text/plain": [
       "(-34.46408458830232, -34.07824620925938)"
      ]
     },
     "execution_count": 19,
     "metadata": {},
     "output_type": "execute_result"
    }
   ],
   "source": [
    "np.mean(lasso_scores), np.mean(ridge_scores)"
   ]
  },
  {
   "cell_type": "markdown",
   "id": "2ccce3bf",
   "metadata": {},
   "source": [
    "- sklearn에서는 'High is Better'\n",
    "- 'negative'를 붙임으로써 작은 값이 더 좋은 것"
   ]
  },
  {
   "cell_type": "markdown",
   "id": "f112f2c9",
   "metadata": {},
   "source": [
    "## Leave One Out (LOO)\n",
    "\n",
    "- Simple cross validation -> k = data size\n",
    "- 한 번에 한 개의 데이터만 Test set으로 사용함 -> 총 k번 iteration\n",
    "- (잘 안씀)"
   ]
  },
  {
   "cell_type": "code",
   "execution_count": 22,
   "id": "f266ce09",
   "metadata": {},
   "outputs": [
    {
     "name": "stdout",
     "output_type": "stream",
     "text": [
      "[1 2 3] [0]\n",
      "[0 2 3] [1]\n",
      "[0 1 3] [2]\n",
      "[0 1 2] [3]\n"
     ]
    }
   ],
   "source": [
    "from sklearn.model_selection import LeaveOneOut\n",
    "\n",
    "test = [1, 2, 3, 4]\n",
    "loo = LeaveOneOut()\n",
    "\n",
    "for train, test in loo.split(test):\n",
    "    print(\"%s %s\" % (train, test))"
   ]
  },
  {
   "cell_type": "code",
   "execution_count": 23,
   "id": "9c7f0fe0",
   "metadata": {},
   "outputs": [
    {
     "data": {
      "text/plain": [
       "(-28.409266762049334, -23.86283631720998)"
      ]
     },
     "execution_count": 23,
     "metadata": {},
     "output_type": "execute_result"
    }
   ],
   "source": [
    "loo = LeaveOneOut()\n",
    "    \n",
    "lasso_scores = cross_val_score(lasso_regressor, X, y, cv=loo, \n",
    "                               scoring='neg_mean_squared_error')\n",
    "ridge_scores= cross_val_score(ridge_regressor, X, y, cv=loo, \n",
    "                              scoring='neg_mean_squared_error')\n",
    "np.mean(lasso_scores), np.mean(ridge_scores)"
   ]
  },
  {
   "cell_type": "markdown",
   "id": "eff02899",
   "metadata": {},
   "source": [
    "## Check variation of cross validation"
   ]
  },
  {
   "cell_type": "code",
   "execution_count": 25,
   "id": "64375f6f",
   "metadata": {},
   "outputs": [
    {
     "data": {
      "image/png": "[encoded data removed]",
      "text/plain": [
       "<Figure size 432x288 with 1 Axes>"
      ]
     },
     "metadata": {
      "needs_background": "light"
     },
     "output_type": "display_data"
    }
   ],
   "source": [
    "import matplotlib.pyplot as plt\n",
    "labels = [\"LASSO\", \"RIDGE\"]\n",
    "\n",
    "plt.boxplot((lasso_scores, ridge_scores), labels=labels)\n",
    "plt.grid(linestyle=\"--\")\n",
    "plt.show()\n",
    "\n",
    "# RIDGE가 훨씬 데이터의(rmse) 분포가 넓다.\n",
    "# 데이터에 좀 더 민감하게 모델이 만들어진다.\n",
    "# LASSO가 좀 더 안정적이다."
   ]
  },
  {
   "cell_type": "code",
   "execution_count": 29,
   "id": "9b98424e",
   "metadata": {},
   "outputs": [],
   "source": [
    "def rmse(predictions, targets):\n",
    "    return np.sqrt(((predictions - targets) ** 2).mean())"
   ]
  },
  {
   "cell_type": "code",
   "execution_count": 40,
   "id": "07489ff8",
   "metadata": {},
   "outputs": [],
   "source": [
    "from sklearn.linear_model import SGDRegressor\n",
    "from sklearn.preprocessing import StandardScaler\n",
    "\n",
    "std = StandardScaler()\n",
    "std.fit(X)\n",
    "X_scaled = std.transform(X)\n",
    "\n",
    "eta0 = 0.0001 \n",
    "max_iter = 100"
   ]
  },
  {
   "cell_type": "code",
   "execution_count": 41,
   "id": "da3cf025",
   "metadata": {},
   "outputs": [
    {
     "name": "stderr",
     "output_type": "stream",
     "text": [
      "/Users/yeon/opt/anaconda3/lib/python3.8/site-packages/sklearn/linear_model/_stochastic_gradient.py:1220: ConvergenceWarning: Maximum number of iteration reached before convergence. Consider increasing max_iter to improve the fit.\n",
      "  warnings.warn(\"Maximum number of iteration reached before \"\n",
      "/Users/yeon/opt/anaconda3/lib/python3.8/site-packages/sklearn/linear_model/_stochastic_gradient.py:1220: ConvergenceWarning: Maximum number of iteration reached before convergence. Consider increasing max_iter to improve the fit.\n",
      "  warnings.warn(\"Maximum number of iteration reached before \"\n"
     ]
    }
   ],
   "source": [
    "from sklearn.model_selection import train_test_split\n",
    "\n",
    "X_train_dataset, X_test, y_train_dataset, y_test = train_test_split(\n",
    "            X_scaled, y, test_size=0.2, random_state=42)\n",
    "\n",
    "sgd_regressor = SGDRegressor(\n",
    "    eta0=eta0, max_iter=max_iter, warm_start=True, learning_rate=\"constant\")\n",
    "\n",
    "# warm_start : 초기값이 미리 주어짐 (여기선 나중에!)\n",
    "\n",
    "rmse_val_score = []\n",
    "rmse_train_score = []\n",
    "model_list = []\n",
    "\n",
    "# 사실 아래처럼 하는 경우는 거의 x (여기서는 실험적으로 val 만들기!)\n",
    "X_train, X_val, y_train, y_val = train_test_split(\n",
    "    X_train_dataset, y_train_dataset, test_size=0.2, random_state=42)\n",
    "sgd_regressor.fit(X_train,y_train)\n",
    "\n",
    "# kf = KFold(n_splits=100, shuffle=True)\n",
    "# for train_index, test_index in kf.split(X_train_dataset):\n",
    "\n",
    "for i in range(300):\n",
    "\n",
    "    # train값\n",
    "    y_pred = sgd_regressor.predict(X_train)\n",
    "    y_true = y_train\n",
    "    rmse_train_score.append(rmse(y_pred, y_true))\n",
    "\n",
    "    # validation값\n",
    "    y_pred = sgd_regressor.predict(X_val)\n",
    "    y_true = y_val\n",
    "    rmse_val_score.append(rmse(y_pred, y_true))\n",
    "    model_list.append(sgd_regressor) # 현재 상태의 model instance를 저장함\n",
    "\n",
    "    coef = sgd_regressor.coef_.copy()\n",
    "    intercept = sgd_regressor.intercept_.copy()\n",
    "\n",
    "    # 새로운 모델 생성\n",
    "    sgd_regressor = SGDRegressor(\n",
    "        eta0=eta0, max_iter=max_iter, warm_start=True, learning_rate=\"constant\")\n",
    "    \n",
    "    sgd_regressor.fit(X_train, y_train, coef_init=coef, intercept_init=intercept)"
   ]
  },
  {
   "cell_type": "code",
   "execution_count": 42,
   "id": "ca0f65a0",
   "metadata": {},
   "outputs": [
    {
     "data": {
      "image/png": "[encoded data removed]",
      "text/plain": [
       "<Figure size 432x288 with 1 Axes>"
      ]
     },
     "metadata": {
      "needs_background": "light"
     },
     "output_type": "display_data"
    }
   ],
   "source": [
    "plt.plot(range(len(rmse_val_score)), rmse_val_score,  c=\"green\", label=\"VAL\")\n",
    "plt.plot(range(len(rmse_train_score)), rmse_train_score,  c=\"red\", label=\"TRAINING\")\n",
    "plt.scatter(99, rmse(y_test,sgd_regressor.predict(X_test)), s=1, label=\"TEST\")\n",
    "plt.legend()\n",
    "plt.show()"
   ]
  },
  {
   "cell_type": "markdown",
   "id": "031d85bc",
   "metadata": {},
   "source": [
    "- rmse가 굉장히 틘 이유 : normalize를 안 해줘서"
   ]
  },
  {
   "cell_type": "code",
   "execution_count": 43,
   "id": "76a868da",
   "metadata": {},
   "outputs": [
    {
     "data": {
      "text/plain": [
       "array([297, 298, 284, 278, 299, 276, 275, 296, 290, 283, 279, 273, 272,\n",
       "       285, 274, 295, 281, 289, 268, 282, 277, 251, 252, 293, 291, 280,\n",
       "       263, 292, 247, 267, 264, 294, 255, 271, 256, 258, 249, 262, 286,\n",
       "       287, 266, 240, 245, 257, 246, 270, 265, 259, 242, 269, 253, 235,\n",
       "       250, 234, 248, 288, 254, 241, 243, 226, 237, 238, 261, 260, 230,\n",
       "       244, 236, 239, 225, 228, 232, 233, 231, 219, 216, 213, 211, 224,\n",
       "       223, 222, 220, 227, 217, 218, 210, 212, 214, 229, 221, 192, 215,\n",
       "       197, 201, 195, 194, 196, 203, 207, 204, 200, 202, 205, 198, 208,\n",
       "       206, 185, 209, 193, 190, 191, 186, 199, 184, 188, 189, 187, 173,\n",
       "       182, 183, 179, 181, 175, 180, 174, 176, 172, 171, 164, 178, 169,\n",
       "       168, 166, 170, 167, 165, 177, 162, 163, 161, 155, 158, 160, 157,\n",
       "       159, 156, 154, 149, 153, 152, 148, 150, 151, 146, 145, 147, 138,\n",
       "       140, 144, 139, 141, 142, 136, 143, 137, 135, 129, 134, 128, 124,\n",
       "       125, 127, 131, 121, 126, 130, 132, 133, 118, 122, 120, 123, 119,\n",
       "       117, 113, 116, 109, 115, 112, 111, 114, 110, 108, 103, 104, 105,\n",
       "       101, 102, 107, 106, 100,  98,  99,  97,  96,  93,  95,  91,  94,\n",
       "        87,  92,  90,  88,  89,  86,  85,  84,  82,  81,  83,  80,  79,\n",
       "        78,  77,  76,  73,  74,  75,  72,  68,  67,  71,  64,  69,  66,\n",
       "        70,  63,  65,  62,  60,  61,  59,  58,  57,  55,  56,  53,  54,\n",
       "        52,  51,  50,  49,  48,  47,  46,  45,  44,  42,  43,  40,  39,\n",
       "        41,  34,  38,  37,  35,  36,  33,  31,  32,  30,  29,  28,  26,\n",
       "        27,  24,  20,  25,  22,  23,  21,  19,  18,  16,  17,  15,  14,\n",
       "        13,  12,  11,  10,   9,   8,   7,   6,   5,   4,   3,   2,   1,\n",
       "         0])"
      ]
     },
     "execution_count": 43,
     "metadata": {},
     "output_type": "execute_result"
    }
   ],
   "source": [
    "np.argsort(rmse_val_score)"
   ]
  },
  {
   "cell_type": "code",
   "execution_count": 44,
   "id": "694bd6d5",
   "metadata": {},
   "outputs": [
    {
     "data": {
      "text/plain": [
       "5.01064733421558"
      ]
     },
     "execution_count": 44,
     "metadata": {},
     "output_type": "execute_result"
    }
   ],
   "source": [
    "rmse(y_test,sgd_regressor.predict(X_test))"
   ]
  },
  {
   "cell_type": "code",
   "execution_count": 47,
   "id": "8c0acb95",
   "metadata": {},
   "outputs": [
    {
     "data": {
      "text/plain": [
       "5.011663398834515"
      ]
     },
     "execution_count": 47,
     "metadata": {},
     "output_type": "execute_result"
    }
   ],
   "source": [
    "rmse(y_test,model_list[297].predict(X_test))\n",
    "# validation score가 가장 잘 모델로 구하기"
   ]
  },
  {
   "cell_type": "code",
   "execution_count": 48,
   "id": "eba3f905",
   "metadata": {},
   "outputs": [
    {
     "data": {
      "text/plain": [
       "array([-0.48397832,  0.24615182, -0.22047402,  0.87928766, -0.7002575 ,\n",
       "        3.88616235, -0.02361002, -1.77979666,  0.12282188, -0.49011148,\n",
       "       -1.78858036,  0.95531346, -3.06177656])"
      ]
     },
     "execution_count": 48,
     "metadata": {},
     "output_type": "execute_result"
    }
   ],
   "source": [
    "model_list[0].coef_"
   ]
  },
  {
   "cell_type": "code",
   "execution_count": null,
   "id": "b078cfe7",
   "metadata": {},
   "outputs": [],
   "source": []
  },
  {
   "cell_type": "code",
   "execution_count": null,
   "id": "e1532883",
   "metadata": {},
   "outputs": [],
   "source": []
  }
 ],
 "metadata": {
  "kernelspec": {
   "display_name": "Python 3",
   "language": "python",
   "name": "python3"
  },
  "language_info": {
   "codemirror_mode": {
    "name": "ipython",
    "version": 3
   },
   "file_extension": ".py",
   "mimetype": "text/x-python",
   "name": "python",
   "nbconvert_exporter": "python",
   "pygments_lexer": "ipython3",
   "version": "3.8.8"
  },
  "toc": {
   "base_numbering": 1,
   "nav_menu": {},
   "number_sections": true,
   "sideBar": true,
   "skip_h1_title": false,
   "title_cell": "Table of Contents",
   "title_sidebar": "Contents",
   "toc_cell": false,
   "toc_position": {},
   "toc_section_display": true,
   "toc_window_display": false
  },
  "varInspector": {
   "cols": {
    "lenName": 16,
    "lenType": 16,
    "lenVar": 40
   },
   "kernels_config": {
    "python": {
     "delete_cmd_postfix": "",
     "delete_cmd_prefix": "del ",
     "library": "var_list.py",
     "varRefreshCmd": "print(var_dic_list())"
    },
    "r": {
     "delete_cmd_postfix": ") ",
     "delete_cmd_prefix": "rm(",
     "library": "var_list.r",
     "varRefreshCmd": "cat(var_dic_list()) "
    }
   },
   "types_to_exclude": [
    "module",
    "function",
    "builtin_function_or_method",
    "instance",
    "_Feature"
   ],
   "window_display": false
  }
 },
 "nbformat": 4,
 "nbformat_minor": 5
}
