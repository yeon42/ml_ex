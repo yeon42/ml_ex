{
  "nbformat": 4,
  "nbformat_minor": 0,
  "metadata": {
    "colab": {
      "name": "garbe_final.ipynb",
      "private_outputs": true,
      "provenance": [],
      "collapsed_sections": [],
      "authorship_tag": "ABX9TyPWW2pqIkN3GEyH+3vdqEnP",
      "include_colab_link": true
    },
    "kernelspec": {
      "name": "python3",
      "display_name": "Python 3"
    },
    "language_info": {
      "name": "python"
    }
  },
  "cells": [
    {
      "cell_type": "markdown",
      "metadata": {
        "id": "view-in-github",
        "colab_type": "text"
      },
      "source": [
        "<a href=\"https://colab.research.google.com/github/yeon42/ml_ex/blob/main/garbage/garbe_final.ipynb\" target=\"_parent\"><img src=\"https://colab.research.google.com/assets/colab-badge.svg\" alt=\"Open In Colab\"/></a>"
      ]
    },
    {
      "cell_type": "code",
      "metadata": {
        "id": "0hY3p3jbw8gi"
      },
      "source": [
        "# API Token 다운받기\n",
        "# 다운받은 API Token 업로드 하기\n",
        "!pip install kaggle\n",
        "from google.colab import files\n",
        "files.upload()"
      ],
      "execution_count": null,
      "outputs": []
    },
    {
      "cell_type": "code",
      "metadata": {
        "id": "3-23BvG5w-Bk"
      },
      "source": [
        "# json 파일 옮겨주기\n",
        "!mkdir -p ~/.kaggle\n",
        "!cp kaggle.json ~/.kaggle/\n",
        "# Permission Warning 이 일어나지 않도록 \n",
        "!chmod 600 ~/.kaggle/kaggle.json"
      ],
      "execution_count": null,
      "outputs": []
    },
    {
      "cell_type": "code",
      "metadata": {
        "id": "2XkeZ-MlxM8G"
      },
      "source": [
        "ls -1ha kaggle.json"
      ],
      "execution_count": null,
      "outputs": []
    },
    {
      "cell_type": "code",
      "metadata": {
        "id": "VvuckbkfxOVc"
      },
      "source": [
        "# 본인이 참가한 모든 대회 보기 \n",
        "!kaggle competitions list"
      ],
      "execution_count": null,
      "outputs": []
    },
    {
      "cell_type": "code",
      "metadata": {
        "id": "AY12tkEQxRm7"
      },
      "source": [
        "# 데이터셋 다운로드 받기 - 링크는 그 대회 'Data'에 있음\n",
        "! kaggle datasets download -d asdasdasasdas/garbage-classification"
      ],
      "execution_count": null,
      "outputs": []
    },
    {
      "cell_type": "code",
      "metadata": {
        "id": "YmClmce3yNZ3"
      },
      "source": [
        "# 다운로드 된 것들 다 보기\n",
        "!ls"
      ],
      "execution_count": null,
      "outputs": []
    },
    {
      "cell_type": "code",
      "metadata": {
        "id": "wo60q_iryO5u"
      },
      "source": [
        "# 필요하면 압축 풀기 \n",
        "!unzip garbage-classification.zip"
      ],
      "execution_count": null,
      "outputs": []
    },
    {
      "cell_type": "code",
      "metadata": {
        "id": "zkn1DoSDyRF9"
      },
      "source": [
        "# 필요한 모듈 불러오기\n",
        "import matplotlib.pyplot as plt\n",
        "import numpy as np\n",
        "import os\n",
        "import tensorflow as tf"
      ],
      "execution_count": null,
      "outputs": []
    },
    {
      "cell_type": "code",
      "metadata": {
        "id": "Nr9UqP6fyq_R"
      },
      "source": [
        "# 데이터가 저장된 디렉토리\n",
        "data_dir = './Garbage classification/Garbage classification/'"
      ],
      "execution_count": null,
      "outputs": []
    },
    {
      "cell_type": "code",
      "metadata": {
        "id": "xm3oJhzQyrBb"
      },
      "source": [
        "# review number of files and directories in the dataset\n",
        "\n",
        "total_dir = len(os.listdir(data_dir)) # 각 디렉토리의 길이 저장\n",
        "total_files = 0\n",
        "\n",
        "# os.walk: 시작 디렉터리에서 시작해 하위 모든 디렉터리를 차례대로 방문하는 함수\n",
        "# for (path, dir, files) in os.walk(\"~\")\n",
        "for dirname, _, filenames in os.walk(data_dir):\n",
        "    print('counting:', dirname) # 먼저 디렉토리 이름 출력\n",
        "    files_counter = 0\n",
        "    for file in filenames: # 각 디렉토리의 파일 갯수\n",
        "        files_counter += 1\n",
        "    total_files += files_counter # 전체 디렉토리의 총 파일 개수\n",
        "    print('total files in dir:', files_counter) # 각 디렉토리의 파일 갯수\n",
        "\n",
        "print('--------')\n",
        "print('total number of files', total_files) # 전체 파일 갯수\n",
        "print('total number of directories', total_dir) # 전체 디렉토리 갯수"
      ],
      "execution_count": null,
      "outputs": []
    },
    {
      "cell_type": "code",
      "metadata": {
        "id": "LSQZFmApyrDy"
      },
      "source": [
        "# 데이터셋 생성\n",
        "\n",
        "# train 데이터셋 생성\n",
        "# 클래스별로 폴더에 나뉜 이미지 파일을 -> 레이블된 이미지 텐서 데이터셋으로 변환\n",
        "train_ds = tf.keras.preprocessing.image_dataset_from_directory(\n",
        "    data_dir,\n",
        "    validation_split=0.2, # 부동소수점(0-1): 검증의 용도로 남겨둘 이미지의 비율\n",
        "    subset='training', # ImageDataGenerator에 validation_split이 설정된 경우 데이터의 부분세트\n",
        "    seed=100 # 난수 시드\n",
        ")\n",
        "\n",
        "# validation 데이터셋 생성\n",
        "validation_ds = tf.keras.preprocessing.image_dataset_from_directory(\n",
        "    data_dir,\n",
        "    validation_split=0.2,\n",
        "    subset='validation',\n",
        "    seed=100\n",
        ")\n",
        "\n",
        "\"\"\"\n",
        "validation_split이 0.2이므로\n",
        "train 세트는 0.8 / validation 세트는 0.2이다.\n",
        "결과를 보면 비율도 4:1\n",
        "\"\"\""
      ],
      "execution_count": null,
      "outputs": []
    },
    {
      "cell_type": "code",
      "metadata": {
        "id": "8aus1UpZyrGI"
      },
      "source": [
        "# train셋의 클래스 이름\n",
        "class_names = train_ds.class_names\n",
        "print(class_names)"
      ],
      "execution_count": null,
      "outputs": []
    },
    {
      "cell_type": "code",
      "metadata": {
        "id": "f_vynsBfyrIo"
      },
      "source": [
        "# train셋의 일부 샘플 이미지 출력해보기 (랜덤)\n",
        "\n",
        "plt.figure(figsize=(16, 16))\n",
        "\n",
        "for images, labels in train_ds.take(1): # 배치 이미지 하나 가져오기\n",
        "    for i in range(12):\n",
        "        ax = plt.subplot(4, 4, i + 1)\n",
        "        plt.imshow(images[i].numpy().astype(\"uint8\")) # 0-9의 정수\n",
        "        plt.title(class_names[labels[i]])\n",
        "        plt.axis(\"off\") # 축 생략\n",
        "\n",
        "\n",
        "# uint8 : 부호가 없는 8비트 (unsigned int 8bit, 0-255) 형식의 자료형"
      ],
      "execution_count": null,
      "outputs": []
    },
    {
      "cell_type": "code",
      "metadata": {
        "id": "Ss5wj0yOyrK9"
      },
      "source": [
        "# validation 셋의 일부 샘플 이미지 출력해보기 (랜덤)\n",
        "\n",
        "plt.figure(figsize=(16, 16))\n",
        "\n",
        "for images, labels in validation_ds.take(1):\n",
        "    for i in range(12):\n",
        "        ax = plt.subplot(4, 4, i + 1)\n",
        "        plt.imshow(images[i].numpy().astype(\"uint8\"))\n",
        "        plt.title(class_names[labels[i]])\n",
        "        plt.axis(\"off\")"
      ],
      "execution_count": null,
      "outputs": []
    },
    {
      "cell_type": "code",
      "metadata": {
        "id": "TQIEX-tcyrNL"
      },
      "source": [
        "# next 메서드를 통해 train 데이터셋의 모든 요소를 읽어들임\n",
        "train_batch = train_ds.as_numpy_iterator().next()\n",
        "\n",
        "print('total of batches:', len(train_ds))\n",
        "\n",
        "# 각 배치의 차원 출력(.shape)\n",
        "print('images batch shape:', train_batch[0].shape) # 이미지 배치 차원\n",
        "print('labels batch shape:', train_batch[1].shape) # 라벨 배치 차원\n",
        "\n",
        "\"\"\"\n",
        "딥러닝은 전체 데이터셋을 처리하지 않고 작은 배치(batch)로 나눈다.\n",
        "\"\"\""
      ],
      "execution_count": null,
      "outputs": []
    },
    {
      "cell_type": "code",
      "metadata": {
        "id": "tN40Pu45yrPq"
      },
      "source": [
        "# next 메서드를 통해 validation 데이터셋의 모든 요소를 읽어들임\n",
        "validation_batch = validation_ds.as_numpy_iterator().next()\n",
        "\n",
        "print('total of batches:',len(validation_ds))\n",
        "\n",
        "# 각 배치의 차원 출력(.shape)\n",
        "print('images batch shape:', validation_batch[0].shape)  # 이미지 배치 차원\n",
        "print('labels batch shape:', validation_batch[1].shape)  # 라벨 배치 차원\n",
        "\n",
        "\"\"\"\n",
        "shape : (32,) => 32차원 벡터의 배치라는 것을 의미\n",
        "      : (32, 256, 256, 3) => 256 x 256 픽셀의 3채널(컬러 이미지, 흑백은 1채널) 32차원 벡터의 배치\n",
        "\"\"\""
      ],
      "execution_count": null,
      "outputs": []
    },
    {
      "cell_type": "code",
      "metadata": {
        "id": "RmrhgXCIyrSA"
      },
      "source": [
        "# 베이스 모델 \n",
        "# 256 x 256 픽셀의 3채널 인풋 설정\n",
        "input_shape = (256, 256, 3)\n",
        "\n",
        "# RestNet50을 사용한 ImageNet 클래스 분류\n",
        "base_model = tf.keras.applications.ResNet50V2(include_top=False, input_shape=input_shape)\n",
        "\n",
        "\"\"\"\n",
        "include_top : 네트워크 최상단에 완전 연결 레이어를 포함시킬지 여부\n",
        "input_shape : 크기를 (256, 256, 3)으로 제한함\n",
        "\"\"\"\n",
        "\n",
        "# 베이스 모델 레이어가 훈련으로 업데이트되도록 설정\n",
        "base_model.trainable = True # 기존 레이어의 가중치의 학습을 하겠다."
      ],
      "execution_count": null,
      "outputs": []
    },
    {
      "cell_type": "code",
      "metadata": {
        "id": "frJnTIPEyrU2"
      },
      "source": [
        "# 베이스 모델 구조 요약해 출력\n",
        "base_model.summary()"
      ],
      "execution_count": null,
      "outputs": []
    },
    {
      "cell_type": "code",
      "metadata": {
        "id": "jcgyTnKZyrW9"
      },
      "source": [
        "tuning_layer_name = 'conv5_block1_preact_bn'  # 데이터셋 크기 조정할 레이어 이름 설정\n",
        "tuning_layer = base_model.get_layer(tuning_layer_name)  # 베이스 모델의 레이어를 불러와 tuning 레이어로 설정\n",
        "tuning_index = base_model.layers.index(tuning_layer)\n",
        "\n",
        "# Tuning 과정에서 베이스 모델의 레이어에 학습이 반영되지 않도록 설정\n",
        "for layer in base_model.layers[:tuning_index]:\n",
        "    layer.trainable =  False"
      ],
      "execution_count": null,
      "outputs": []
    },
    {
      "cell_type": "code",
      "metadata": {
        "id": "3DwdKjtRyrY6"
      },
      "source": [
        "# 이미지 분류 고도화 작업(데이터 전처리) 및 데이터 증가\n",
        "# 데이터가 다양하지 않거나, 데이터 개수가 충분하지 않을 때 랜덤으로 회전시키거나 flip한느 등의 augmentation\n",
        "\n",
        "data_augmentation = tf.keras.Sequential([ # data_augmentation: 캐라스에서 순차적 함수 만들고 이렇게 만들어진 합성 데이터를 사용해 데이터 양 늘리는 작업\n",
        "    tf.keras.layers.experimental.preprocessing.Rescaling(1./127.5, offset= -1),  # 이미지 데이터 값 스케일(범위) 재설정하기 # ex) (0,255) 범위를 (-1,1) 범위로 설정하기 위해서는 (1./127.5, offset=-1) 설정해야 함\n",
        "    tf.keras.layers.experimental.preprocessing.RandomFlip(\"horizontal_and_vertical\"),\n",
        "    tf.keras.layers.experimental.preprocessing.RandomRotation(0.2), #( 0,2) 스케일 내에서 이미지 무작위 회전\n",
        "    tf.keras.layers.experimental.preprocessing.RandomZoom(0.2)  # 마찬가지 범위 내에서 무작위 확대\n",
        "], name='data_augmentation')"
      ],
      "execution_count": null,
      "outputs": []
    },
    {
      "cell_type": "code",
      "metadata": {
        "id": "oSbUPrQk4qtC"
      },
      "source": [
        "# 위에서 전처리 및 증량 작업 한 data_augmentation 가지고 실제 활용할 모델 생성\n",
        "# Sequential: 레이어를 선형으로 연결하여 구성 (레이어 인스턴스를 생성자에게 넘겨줌으로써 Sequential 모델 구성 가능)\n",
        "\n",
        "model = tf.keras.Sequential([       \n",
        "    data_augmentation,\n",
        "    base_model,\n",
        "    tf.keras.layers.GlobalAveragePooling2D(),  # 레이어들의 차원을 줄이고 각 노드별 평균값을 아웃풋으로 제시\n",
        "    tf.keras.layers.Dense(6, activation='softmax')  # dense = 연결강도 # softmax = 입력받은 값을 출력으로 0~1사이의 값으로 모두 정규화/출력 값들의 총합은 항상 1/분류하고 싶은 클래스 수만큼의 출력으로 구성\n",
        "]) \n",
        "\n",
        "# 학습률 설정(작은 값부터 시작)\n",
        "learning_rate = 0.00001\n",
        "\n",
        "model.compile(\n",
        "    loss='sparse_categorical_crossentropy',      # compile을 위한 손실함수 설정\n",
        "    optimizer=tf.keras.optimizers.Adam(lr=learning_rate),  # 함수 최적화하기 (학습률 유지하면서)\n",
        "    metrics=['accuracy']                              # 정확도 판정\n",
        ")"
      ],
      "execution_count": null,
      "outputs": []
    },
    {
      "cell_type": "code",
      "metadata": {
        "id": "W8eFNNiu4qvP"
      },
      "source": [
        "# 모델 훈련시키기\n",
        "history = model.fit(\n",
        "    train_ds,\n",
        "    validation_data=validation_ds,\n",
        "    epochs=15\n",
        ")"
      ],
      "execution_count": null,
      "outputs": []
    },
    {
      "cell_type": "code",
      "metadata": {
        "id": "HkIe-cDS4qxg"
      },
      "source": [
        "# 시각화 작업\n",
        "# 지금까지 한 것들(history) 전부 시각화\n",
        "acc = history.history['accuracy']  \n",
        "val_acc = history.history['val_accuracy']\n",
        "\n",
        "loss = history.history['loss']\n",
        "val_loss = history.history['val_loss']\n",
        "\n",
        "# plot accuracy(훈련 정확도) 시각화하기\n",
        "plt.figure(figsize=(8, 8))\n",
        "plt.subplot(2, 1, 1)\n",
        "plt.plot(acc, label='Training Accuracy')\n",
        "plt.plot(val_acc, label='Validation Accuracy')\n",
        "plt.legend(loc='lower right')\n",
        "plt.ylabel('Accuracy')  # 하나의 그래프 안에 데이터가 모두 위치하도록 설정(legend함수)\n",
        "plt.ylim([min(plt.ylim()),1])\n",
        "plt.title('Training and Validation Accuracy')\n",
        "\n",
        "# plot loss\n",
        "plt.subplot(2, 1, 2)\n",
        "plt.plot(loss, label='Training Loss')\n",
        "plt.plot(val_loss, label='Validation Loss')\n",
        "plt.legend(loc='upper right')\n",
        "plt.ylabel('Cross Entropy')\n",
        "plt.ylim([0,1.0])\n",
        "plt.title('Training and Validation Loss')\n",
        "plt.xlabel('epoch')\n",
        "plt.show()"
      ],
      "execution_count": null,
      "outputs": []
    },
    {
      "cell_type": "code",
      "metadata": {
        "id": "yEIr_9JD4qzt"
      },
      "source": [
        "# 모델 성능을 검증해 본다.\n",
        "loss, accuracy = model.evaluate(validation_ds)\n",
        "print('Test accuracy :', accuracy)\n",
        "print('Test loss:', loss)"
      ],
      "execution_count": null,
      "outputs": []
    },
    {
      "cell_type": "code",
      "metadata": {
        "id": "W9tF9Pfs4q1z"
      },
      "source": [
        "# 이전에 학습했던 데이터로 추론해 보자.\n",
        "# 이전에 학습했던 validation 데이터셋에서 batch를 가져온다.\n",
        "image_batch, label_batch = validation_ds.as_numpy_iterator().next()\n",
        "\n",
        "# 추론결과 저장\n",
        "inference = model.predict_on_batch(image_batch)\n",
        "\n",
        "# 이미지들과 라벨을 보여준다.\n",
        "plt.figure(figsize=(18, 18))\n",
        "for i in range(12):\n",
        "    ax = plt.subplot(4, 4, i + 1)\n",
        "    plt.imshow(image_batch[i].astype(\"uint8\"))\n",
        "    plt.title('Inference:{}, {:.2f}% Confidence\\nReal Label:{}'\n",
        "              .format(class_names[np.argmax(inference[i])], 100 * np.max(inference[i]), class_names[label_batch[i]]))\n",
        "    plt.axis(\"off\")"
      ],
      "execution_count": null,
      "outputs": []
    },
    {
      "cell_type": "code",
      "metadata": {
        "id": "R0r7cBNC4q3y"
      },
      "source": [
        "# 이전에 학습해 보지 않은 새로운 데이터로 추론해 보자.\n",
        "\n",
        "# 각 레이블을 사용해 테스트할 이미지 url들을 정의해 준다.\n",
        "test_urls = [\n",
        "    'https://uploads.ifdesign.de/award_img_121/oex_large/31983_01_4078_basket.jpg',\n",
        "    'https://www.antique-bottles.net/attachments/image-jpg.201847/',\n",
        "    'https://inzanetimes.files.wordpress.com/2013/04/canterbury41313016.jpg',\n",
        "    'https://live.staticflickr.com/66/167934943_f61a850d96_b.jpg',\n",
        "    'https://cdnimg.webstaurantstore.com/images/products/large/407128/1501927.jpg',\n",
        "    'https://dy6g3i6a1660s.cloudfront.net/6n3yAQDV3zPhUIdvbTC-uwPUAoo/orig.jpg'\n",
        "]\n",
        "test_labels = [3, 1, 2, 4, 0, 5]\n",
        "\n",
        "# test 데이터셋을 만들어서 확인\n",
        "test_ds = []\n",
        "image_size = (256, 256)\n",
        "for i in range(len(test_urls)):\n",
        "    path = tf.keras.utils.get_file(str(i), origin=test_urls[i])\n",
        "    img = tf.keras.preprocessing.image.load_img(path, target_size=image_size)\n",
        "    test_ds.append(tf.keras.preprocessing.image.img_to_array(img))\n",
        "test_ds = np.array(test_ds)\n",
        "\n",
        "# test 추론 결과 저장\n",
        "test_inference = model.predict_on_batch(test_ds)\n",
        "\n",
        "# 이미지들과 라벨을 보여준다.\n",
        "plt.figure(figsize=(16, 16))\n",
        "for i in range(6):\n",
        "    ax = plt.subplot(3, 3, i + 1)\n",
        "    plt.imshow(test_ds[i].astype(\"uint8\"))\n",
        "    plt.title('Inference:{}, {:.2f}% Confidence\\nReal Label:{}'\n",
        "              .format(class_names[np.argmax(test_inference[i])], 100 * np.max(test_inference[i]), class_names[test_labels[i]]))\n",
        "    plt.axis(\"off\")"
      ],
      "execution_count": null,
      "outputs": []
    },
    {
      "cell_type": "code",
      "metadata": {
        "id": "KABO5v0r4q5_"
      },
      "source": [
        ""
      ],
      "execution_count": null,
      "outputs": []
    },
    {
      "cell_type": "code",
      "metadata": {
        "id": "Y6eoGwa14q98"
      },
      "source": [
        ""
      ],
      "execution_count": null,
      "outputs": []
    },
    {
      "cell_type": "code",
      "metadata": {
        "id": "fO0SI5Pt4rCY"
      },
      "source": [
        ""
      ],
      "execution_count": null,
      "outputs": []
    }
  ]
}