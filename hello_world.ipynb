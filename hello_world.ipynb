{
  "nbformat": 4,
  "nbformat_minor": 0,
  "metadata": {
    "colab": {
      "name": "hello_world.ipynb",
      "provenance": [],
      "collapsed_sections": [
        "copyright-notice"
      ],
      "include_colab_link": true
    },
    "kernelspec": {
      "name": "python3",
      "display_name": "Python 3"
    }
  },
  "cells": [
    {
      "cell_type": "markdown",
      "metadata": {
        "id": "view-in-github",
        "colab_type": "text"
      },
      "source": [
        "<a href=\"https://colab.research.google.com/github/yeon42/ml_ex/blob/main/hello_world.ipynb\" target=\"_parent\"><img src=\"https://colab.research.google.com/assets/colab-badge.svg\" alt=\"Open In Colab\"/></a>"
      ]
    },
    {
      "cell_type": "markdown",
      "metadata": {
        "id": "copyright-notice"
      },
      "source": [
        "#### Copyright 2017 Google LLC."
      ]
    },
    {
      "cell_type": "code",
      "metadata": {
        "id": "copyright-notice2",
        "cellView": "both"
      },
      "source": [
        "# Licensed under the Apache License, Version 2.0 (the \"License\");\n",
        "# you may not use this file except in compliance with the License.\n",
        "# You may obtain a copy of the License at\n",
        "#\n",
        "# https://www.apache.org/licenses/LICENSE-2.0\n",
        "#\n",
        "# Unless required by applicable law or agreed to in writing, software\n",
        "# distributed under the License is distributed on an \"AS IS\" BASIS,\n",
        "# WITHOUT WARRANTIES OR CONDITIONS OF ANY KIND, either express or implied.\n",
        "# See the License for the specific language governing permissions and\n",
        "# limitations under the License."
      ],
      "execution_count": null,
      "outputs": []
    },
    {
      "cell_type": "markdown",
      "metadata": {
        "id": "cH-YtyZs7Gcg"
      },
      "source": [
        " # 사전 작업: Hello World"
      ]
    },
    {
      "cell_type": "markdown",
      "metadata": {
        "id": "r0QBC2kTixPn"
      },
      "source": [
        " **학습 목표:** 브라우저에서 텐서플로우 프로그램을 실행합니다."
      ]
    },
    {
      "cell_type": "markdown",
      "metadata": {
        "id": "33fL46pgixPo"
      },
      "source": [
        " 다음은 'Hello World' 텐서플로우 프로그램입니다."
      ]
    },
    {
      "cell_type": "code",
      "metadata": {
        "id": "bRuPN7qo7ICp",
        "colab": {
          "base_uri": "https://localhost:8080/"
        },
        "cellView": "both",
        "outputId": "fe1fc688-6327-4d80-ed62-6aa8a63ded7b"
      },
      "source": [
        "from __future__ import print_function\n",
        "\n",
        "%tensorflow_version 1.x\n",
        "import tensorflow as tf\n",
        "\n",
        "c = tf.constant('Hello, world!')\n",
        "\n",
        "with tf.Session() as sess:\n",
        "\n",
        "    print(sess.run(c))"
      ],
      "execution_count": 1,
      "outputs": [
        {
          "output_type": "stream",
          "text": [
            "TensorFlow 1.x selected.\n",
            "b'Hello, world!'\n"
          ],
          "name": "stdout"
        }
      ]
    },
    {
      "cell_type": "markdown",
      "metadata": {
        "id": "Bl1nAshab6m5"
      },
      "source": [
        " ## 이 프로그램을 실행하려면 다음을 실행하세요.\n",
        "\n",
        "  1. 코드 블록의 아무 곳이나 클릭합니다. 예: `import` 단어.\n",
        "\n",
        "  2. 코드 블록 왼쪽 상단에서 오른쪽을 보고 있는 삼각형 아이콘을 클릭하거나 ⌘/Ctrl-Enter를 누릅니다.\n",
        "\n",
        "     몇 초 후 프로그램이 실행됩니다. 문제 없이 진행되면 코드 블록 바로 아래에 `Hello, world!`라는 문구가 나타납니다\\n\n",
        "이 프로그램은 전체가 하나의 코드 블록으로 이루어져 있습니다. 하지만 대다수의 실습은 여러 코드 블록으로 이루어져 있기 때문에 **위에서 아래의 순서로 개별적으로 코드 블록을 실행**해야 합니다. \n",
        "\n",
        "순서에 맞지 않게 코드 블록을 실행하면 보통 오류가 발생합니다."
      ]
    },
    {
      "cell_type": "markdown",
      "metadata": {
        "id": "UpzZ0Gv-uKf_"
      },
      "source": [
        " ## 유용한 단축키\n",
        "\n",
        "* **⌘/Ctrl+m,b:**는 현재 선택된 셀 아래에 빈 코드 셀을 만듭니다.\n",
        "* **⌘/Ctrl+m,i:**는 실행 중인 셀을 중단시킵니다.\n",
        "* **⌘/Ctrl+m,h:**는 모든 단축키 목록을 표시합니다.\n",
        "* 텐서플로우 API 메서드에 관한 문서를 보려면 여는 괄호 바로 오른쪽에 커서를 두고 **Tab**을 누르세요.\n",
        "\n",
        "![텐서플로우 tf.constant 메서드에 대한 문서가 표시됩니다.](https://download.mlcc.google.com/mledu-images/tf_constant_pop_up_doc.png)"
      ]
    }
  ]
}